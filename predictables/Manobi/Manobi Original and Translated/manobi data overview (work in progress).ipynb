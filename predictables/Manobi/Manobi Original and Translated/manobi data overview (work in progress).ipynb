{
 "cells": [
  {
   "cell_type": "code",
   "execution_count": 89,
   "metadata": {},
   "outputs": [],
   "source": [
    "import pandas as pd\n",
    "import numpy as np\n",
    "import plotnine\n",
    "from plotnine import *\n",
    "\n",
    "filepath = '/Users/Allegra/Documents/Postdoc/habitus/'"
   ]
  },
  {
   "cell_type": "markdown",
   "metadata": {},
   "source": [
    "# Getting the Manobi data\n",
    "\n",
    "I have access to the following data:\n",
    "\n",
    "- SENEGAL (multiple regions but I focus on St Louis):\n",
    "    - 2015-2016:\n",
    "        - Village group (parent of Village)\n",
    "        - Village (parent of Farmer)\n",
    "        - Farmer (parent of Plot)\n",
    "        - Plot (parent of Season)\n",
    "        - Season \n",
    "    - 2018-2019 (ranked by worthwhileness where 0 is not at all):\n",
    "        - Buyers (0): Almost no info\n",
    "        - Financers (0): Empty\n",
    "        - Village group: Some info, mostly invalidated (2)\n",
    "        - Village (2)\n",
    "        - Farmer (parent of Plot) (?? need to check)\n",
    "        - Plot (parent of FS, Harvest, Yield and Next Season): Size, soil quality (1)\n",
    "        - \"Fiche suivi 1, 2, & 3\": Yikes! what are these?!\n",
    "            - 1 appears to have management information like fertilizer and herbicide application (2)\n",
    "            - 2 appears to be checking the grain maturation stage, weed status (?!) and phytosanitary treatment (?!??!) (1)\n",
    "            - 3 appears to be a repetition of the above (1)\n",
    "        - Harvest: Sack quantity, harvest date and harvest method (2)\n",
    "        - Yield: Some yield information, not sure how this differs qualitatively from harvest (2)\n",
    "        - Next season: This looks most like \"Agricultural season\" from 2017 (2)\n",
    "    - 2019-2020:\n",
    "        - Buyers: Just 2 (0)\n",
    "        - Financers: Empty (0)\n",
    "        - Groupe: Main crop, name, location, number of members and how many are women (2)\n",
    "        - Village: Tiny (2)\n",
    "        - Plot (child of Farmer): Tiny (1)\n",
    "        - Season (child of Plot): Tiny; credit info, crop choice (1)\n",
    "        - Season Monitoring (child of Season): Not very useful, most variables are free-answer (0)\n",
    "        - Soil preparation (child of Season Monitoring): Tiny; labor and method (0)\n",
    "        - Sowing (Fr: Semis) (child of Season Monitoring): Tiny; seed info (1)\n",
    "        - Fertilization (child of Season Monitoring): Amount, type and price of fertilizer (1)\n",
    "        - Harvest: Too small to bother; method and operator, no other info (0)\n",
    "        - Postharvest (child of Season Monitoring): Tiny; Harvest weight and price (1)\n",
    "\n",
    "- GHANA:\n",
    "    - 2017:\n",
    "        - Drying area\n",
    "        - Village\n",
    "        - Farmer\n",
    "        - Plot\n",
    "        - Season\n",
    "    - 2020: \n",
    "        - Drying area\n",
    "        - Village\n",
    "        - Farmer\n",
    "        - Plot\n",
    "        - Agricultural season\n",
    "        - Land preparation\n",
    "        - Sowing\n",
    "        - In-season crop monitoring\n",
    "        - Fertilization\n",
    "        - Plant protection\n",
    "        - Harvest\n",
    "        - Postharvest\n",
    "        - Livestock\n",
    "\n",
    "If I remember correctly from the last time I investigated this data, Senegal has good farmer overlap for seasons, but demographic data is not updated each year and the data structure and cleanliness is lacking. Ghana data are cleaner, in English and better organized, but there is no farmer overlap between years.\n",
    "\n",
    "I decided to put my efforts towards the 2016 dataset because it is the biggest. Paul has already cleaned the Farmer file with the demographic information, so I will focus on the Season file. The Plot and Village/Group files have very little information. I'll return to them once I have the seasonal data available for the predictions team. I followed these steps to get the data (I'd done this before but without access to the survey structure):\n",
    "\n",
    "1. Download data from JotBi.\n",
    "2. Convert file from .xls to .xlsx\n",
    "3. Remove PII, which I defined as: Agent and farmer name, phone number, specific location of farm\n",
    "4. Rename the columns so they mean something\n",
    "    - A note about seasons: In the earlier data sheets, \"last\" season and \"next\" season are in the same sheet. I assigned \"last\" season variable names with \"\\_season1\" and \"next\" season variable names with \"\\_season2\". THIS IS A TEMPORARY, TERRIBLE MEASURE. Please do not read into these at all.\n",
    "5. Create a KEY for the column names which I transcribed by hand from JotBi\n",
    "6. Convert French to English and remove special characters (NOTE: I wrote a little Python program to help do this by hand. I tried using a Google translate plugin but it didn't work well.)\n",
    "\n",
    "Some touch-ups are needed:\n",
    "- Deal with the \"other\" columns -- there are often secondary or \"other\" options for when the drop-down menu doesn't contain the respondent's answer.\n",
    "- When I translated stuff, I didn't judge if it made sense. If you see \"tractor\" in the \"crop_grown\" column, that isn't bad translation, it's bad collection. Is \"mechanized\" different than \"motorized\"? Who knows!"
   ]
  },
  {
   "cell_type": "code",
   "execution_count": null,
   "metadata": {},
   "outputs": [],
   "source": [
    "# Three problem spheres:\n",
    "#   Column names - q's are different across surveys, and it's not always clear how to deal with season/date\n",
    "#   Entries - attaching correct information to correct farmer/plot/etc ID\n",
    "#   Cleaning - data aren't sensible\n",
    "\n",
    "# Set sub-farmer dataframes' indices to be their parent ID and join iteratively\n",
    "\n",
    "# Pluck out common columns for all dataframes - \n",
    "#       NEED DATA STRUCTURES --> what are the question texts?! Don't want to do this manually!!!"
   ]
  },
  {
   "cell_type": "markdown",
   "metadata": {},
   "source": [
    "# \"Season\"\n",
    "\n",
    "The issue with assigning a variable a \"season\" is that you never know what season you're in when an agent arrives. The only things Manobi collects are: The date the agent arrives, whether they're talking about \"this\" or \"next\" season, and the date of the event that's being asked about. It's also not clear whether, when discussing \"next\" season, events have already happened or are being planned for. (Note for future collection: We need to specify this.)\n",
    "\n",
    "I think the best solution is, rather than having variables like \"fertilizer_season1\" and \"fertilizer_season2\", we should have a \"fertilizer\" column and a \"season\" column. But first I need to determine whether the labels provided by Manobi are reliable, i.e. the variables we think are Season 1 all fall within the same season."
   ]
  },
  {
   "cell_type": "code",
   "execution_count": 94,
   "metadata": {},
   "outputs": [
    {
     "data": {
      "text/html": [
       "<div>\n",
       "<style scoped>\n",
       "    .dataframe tbody tr th:only-of-type {\n",
       "        vertical-align: middle;\n",
       "    }\n",
       "\n",
       "    .dataframe tbody tr th {\n",
       "        vertical-align: top;\n",
       "    }\n",
       "\n",
       "    .dataframe thead th {\n",
       "        text-align: right;\n",
       "    }\n",
       "</style>\n",
       "<table border=\"1\" class=\"dataframe\">\n",
       "  <thead>\n",
       "    <tr style=\"text-align: right;\">\n",
       "      <th></th>\n",
       "      <th>ID</th>\n",
       "      <th>plot_ID</th>\n",
       "      <th>validation</th>\n",
       "      <th>collection_date</th>\n",
       "      <th>farmed_season1</th>\n",
       "      <th>plot_number_season1</th>\n",
       "      <th>crop_grown_season1</th>\n",
       "      <th>secondary_crop_grown_season1</th>\n",
       "      <th>reason_for_crop_season1</th>\n",
       "      <th>production_season1</th>\n",
       "      <th>...</th>\n",
       "      <th>credit_amount_demanded_season2</th>\n",
       "      <th>credit_amount_received_season2</th>\n",
       "      <th>credit_source_season2</th>\n",
       "      <th>interest_rate_season2</th>\n",
       "      <th>farmed_dry_season</th>\n",
       "      <th>crop_grown_dry_season</th>\n",
       "      <th>fertilizer_type_dry_season</th>\n",
       "      <th>irrigation_method_dry_season</th>\n",
       "      <th>irrigation_cost_dry_season</th>\n",
       "      <th>irrigation_source_dry_season</th>\n",
       "    </tr>\n",
       "  </thead>\n",
       "  <tbody>\n",
       "    <tr>\n",
       "      <th>0</th>\n",
       "      <td>3469</td>\n",
       "      <td>3568</td>\n",
       "      <td>validated</td>\n",
       "      <td>2016-08-27 02:39:07</td>\n",
       "      <td>yes</td>\n",
       "      <td>3</td>\n",
       "      <td>irrigated_rice</td>\n",
       "      <td>NaN</td>\n",
       "      <td>all_three</td>\n",
       "      <td>12800.00</td>\n",
       "      <td>...</td>\n",
       "      <td>0</td>\n",
       "      <td>0</td>\n",
       "      <td>NaN</td>\n",
       "      <td>0%</td>\n",
       "      <td>no</td>\n",
       "      <td>NaN</td>\n",
       "      <td>NaN</td>\n",
       "      <td>NaN</td>\n",
       "      <td>0</td>\n",
       "      <td>NaN</td>\n",
       "    </tr>\n",
       "    <tr>\n",
       "      <th>1</th>\n",
       "      <td>3627</td>\n",
       "      <td>3723</td>\n",
       "      <td>validated</td>\n",
       "      <td>2016-10-28 08:28:37</td>\n",
       "      <td>no</td>\n",
       "      <td>NaN</td>\n",
       "      <td>NaN</td>\n",
       "      <td>NaN</td>\n",
       "      <td>NaN</td>\n",
       "      <td>0.00</td>\n",
       "      <td>...</td>\n",
       "      <td>0</td>\n",
       "      <td>0</td>\n",
       "      <td>NaN</td>\n",
       "      <td>0%</td>\n",
       "      <td>no</td>\n",
       "      <td>NaN</td>\n",
       "      <td>NaN</td>\n",
       "      <td>NaN</td>\n",
       "      <td>0</td>\n",
       "      <td>NaN</td>\n",
       "    </tr>\n",
       "    <tr>\n",
       "      <th>2</th>\n",
       "      <td>3642</td>\n",
       "      <td>3750</td>\n",
       "      <td>validated</td>\n",
       "      <td>2016-08-30 00:26:18</td>\n",
       "      <td>yes</td>\n",
       "      <td>3</td>\n",
       "      <td>irrigated_rice</td>\n",
       "      <td>NaN</td>\n",
       "      <td>subsistence</td>\n",
       "      <td>11.05</td>\n",
       "      <td>...</td>\n",
       "      <td>350000</td>\n",
       "      <td>350000</td>\n",
       "      <td>bank</td>\n",
       "      <td>7%</td>\n",
       "      <td>yes</td>\n",
       "      <td>irrigated_rice</td>\n",
       "      <td>NPK/Urea</td>\n",
       "      <td>Bassin/Submersion</td>\n",
       "      <td>71000</td>\n",
       "      <td>river</td>\n",
       "    </tr>\n",
       "    <tr>\n",
       "      <th>3</th>\n",
       "      <td>3644</td>\n",
       "      <td>3752</td>\n",
       "      <td>validated</td>\n",
       "      <td>2016-08-29 22:24:11</td>\n",
       "      <td>yes</td>\n",
       "      <td>6</td>\n",
       "      <td>irrigated_rice</td>\n",
       "      <td>NaN</td>\n",
       "      <td>subsistence</td>\n",
       "      <td>42.00</td>\n",
       "      <td>...</td>\n",
       "      <td>350000</td>\n",
       "      <td>350000</td>\n",
       "      <td>bank</td>\n",
       "      <td>7%</td>\n",
       "      <td>yes</td>\n",
       "      <td>irrigated_rice</td>\n",
       "      <td>DAP/Urea</td>\n",
       "      <td>NaN</td>\n",
       "      <td>71000</td>\n",
       "      <td>river</td>\n",
       "    </tr>\n",
       "    <tr>\n",
       "      <th>4</th>\n",
       "      <td>3645</td>\n",
       "      <td>3753</td>\n",
       "      <td>validated</td>\n",
       "      <td>2016-08-29 15:17:24</td>\n",
       "      <td>yes</td>\n",
       "      <td>5</td>\n",
       "      <td>irrigated_rice</td>\n",
       "      <td>NaN</td>\n",
       "      <td>subsistence</td>\n",
       "      <td>40.00</td>\n",
       "      <td>...</td>\n",
       "      <td>350000</td>\n",
       "      <td>350000</td>\n",
       "      <td>bank</td>\n",
       "      <td>7%</td>\n",
       "      <td>yes</td>\n",
       "      <td>irrigated_rice</td>\n",
       "      <td>NPK/Urea</td>\n",
       "      <td>Bassin/Submersion</td>\n",
       "      <td>81000</td>\n",
       "      <td>river</td>\n",
       "    </tr>\n",
       "  </tbody>\n",
       "</table>\n",
       "<p>5 rows × 107 columns</p>\n",
       "</div>"
      ],
      "text/plain": [
       "     ID  plot_ID validation      collection_date farmed_season1  \\\n",
       "0  3469     3568  validated  2016-08-27 02:39:07            yes   \n",
       "1  3627     3723  validated  2016-10-28 08:28:37             no   \n",
       "2  3642     3750  validated  2016-08-30 00:26:18            yes   \n",
       "3  3644     3752  validated  2016-08-29 22:24:11            yes   \n",
       "4  3645     3753  validated  2016-08-29 15:17:24            yes   \n",
       "\n",
       "  plot_number_season1 crop_grown_season1 secondary_crop_grown_season1  \\\n",
       "0                   3     irrigated_rice                          NaN   \n",
       "1                 NaN                NaN                          NaN   \n",
       "2                   3     irrigated_rice                          NaN   \n",
       "3                   6     irrigated_rice                          NaN   \n",
       "4                   5     irrigated_rice                          NaN   \n",
       "\n",
       "  reason_for_crop_season1  production_season1  ...  \\\n",
       "0               all_three            12800.00  ...   \n",
       "1                     NaN                0.00  ...   \n",
       "2             subsistence               11.05  ...   \n",
       "3             subsistence               42.00  ...   \n",
       "4             subsistence               40.00  ...   \n",
       "\n",
       "  credit_amount_demanded_season2  credit_amount_received_season2  \\\n",
       "0                              0                               0   \n",
       "1                              0                               0   \n",
       "2                         350000                          350000   \n",
       "3                         350000                          350000   \n",
       "4                         350000                          350000   \n",
       "\n",
       "   credit_source_season2 interest_rate_season2 farmed_dry_season  \\\n",
       "0                    NaN                    0%                no   \n",
       "1                    NaN                    0%                no   \n",
       "2                   bank                    7%               yes   \n",
       "3                   bank                    7%               yes   \n",
       "4                   bank                    7%               yes   \n",
       "\n",
       "  crop_grown_dry_season fertilizer_type_dry_season  \\\n",
       "0                   NaN                        NaN   \n",
       "1                   NaN                        NaN   \n",
       "2        irrigated_rice                   NPK/Urea   \n",
       "3        irrigated_rice                   DAP/Urea   \n",
       "4        irrigated_rice                   NPK/Urea   \n",
       "\n",
       "  irrigation_method_dry_season irrigation_cost_dry_season  \\\n",
       "0                          NaN                          0   \n",
       "1                          NaN                          0   \n",
       "2            Bassin/Submersion                      71000   \n",
       "3                          NaN                      71000   \n",
       "4            Bassin/Submersion                      81000   \n",
       "\n",
       "  irrigation_source_dry_season  \n",
       "0                          NaN  \n",
       "1                          NaN  \n",
       "2                        river  \n",
       "3                        river  \n",
       "4                        river  \n",
       "\n",
       "[5 rows x 107 columns]"
      ]
     },
     "execution_count": 94,
     "metadata": {},
     "output_type": "execute_result"
    }
   ],
   "source": [
    "df = pd.read_excel(filepath + 'data/senegal_0520/season_StLouis_2016_english.xlsx', engine = 'openpyxl')\n",
    "df.head()"
   ]
  },
  {
   "cell_type": "code",
   "execution_count": 95,
   "metadata": {},
   "outputs": [],
   "source": [
    "for clmn in df.columns:\n",
    "    if 'date' in clmn:\n",
    "        df[clmn].replace({'0000-00-00': np.nan}, inplace = True)\n",
    "        df[clmn] = pd.to_datetime(df[clmn])\n",
    "        df[clmn] = df[clmn].dt.date\n",
    "        df[clmn].replace({pd.NaT: np.nan}, inplace = True)\n",
    "        "
   ]
  },
  {
   "cell_type": "markdown",
   "metadata": {},
   "source": [
    "Let's compare the sowing dates for \"season 1\" and \"season 2\" of 2016, known in the Manobi survey as \"last\" and \"this/the coming\" season. Note that there are some obvious typos (years in the 2020s for example) so for plotting purposes I drop dates that occur after 2017. Green shows \"season 1\" sowing dates, blue shows \"season 2\" sowing dates and red shows the date the agent went to collect data. "
   ]
  },
  {
   "cell_type": "code",
   "execution_count": 117,
   "metadata": {
    "scrolled": false
   },
   "outputs": [
    {
     "name": "stdout",
     "output_type": "stream",
     "text": [
      "NaN for season 1:  342\n",
      "NaN for season 2:  2368\n"
     ]
    },
    {
     "data": {
      "image/png": "[encoded data removed]",
      "text/plain": [
       "<Figure size 1000x600 with 1 Axes>"
      ]
     },
     "metadata": {
      "needs_background": "light"
     },
     "output_type": "display_data"
    },
    {
     "data": {
      "text/plain": [
       "<ggplot: (316277601)>"
      ]
     },
     "execution_count": 117,
     "metadata": {},
     "output_type": "execute_result"
    }
   ],
   "source": [
    "sowing_df = pd.DataFrame({'season_1': df.sowing_date_season1, 'season_2': df.sowing_date_season2, 'collection': df.collection_date})\n",
    "\n",
    "sowing_df = sowing_df[~(sowing_df['season_1'] > pd.to_datetime('2018-01-01'))]\n",
    "sowing_df = sowing_df[~(sowing_df['season_2'] > pd.to_datetime('2018-01-01'))]\n",
    "sowing_df = sowing_df[~(sowing_df['collection'] > pd.to_datetime('2018-01-01'))]\n",
    "\n",
    "num_bins = 50\n",
    "\n",
    "print(\"NaN for season 1: \", df.sowing_date_season1.isna().sum())\n",
    "print(\"NaN for season 2: \", df.sowing_date_season2.isna().sum())\n",
    "\n",
    "ggplot(sowing_df.dropna()) + geom_histogram(aes('season_1'), bins = num_bins, fill = 'seagreen', alpha = 0.5) + geom_histogram(aes('season_2'), bins = num_bins, fill = 'dodgerblue', alpha = 0.5) + geom_histogram(aes('collection'), bins = num_bins, fill = 'firebrick', alpha = 0.5) + theme_minimal() + scale_x_date(date_labels = \"%m-%Y\") + xlab(\"Date\")\n"
   ]
  },
  {
   "cell_type": "markdown",
   "metadata": {},
   "source": [
    "Here we see that all data were collected between fall of 2016 and early 2017 (red). \"This\" or \"the coming\" season, as it's referred to in the Manobi database, or \"season 2\" as I've been calling it, falls mostly in between August and October of 2016. According to Vijay this puts us in the wet season, although noting that these are sowing dates, we can see that some people were late sowing. We also see sowing between January and June, which according to Vijay is the dry season. But we also see the following issues:\n",
    "\n",
    "- Season 1 is split between fall of 2015, spring of 2016 and fall of 2016. Obviously, the agents and the farmers are not always talking about the same season. The same goes for Season 2 which is split between a smattering of answers about spring 2016 and answers about fall of 2016.\n",
    "\n",
    "- We have much more coherent information about the most recent sowing than the dry season sowing. Is this because more people sow in the wet season or because they remember what they did better? Or, is it because at the time of collection, only the people who had sowed had sowed (trivial)? Or, is it because if you're going to sow for the wet season, you do it at a specific time or not at all?\n",
    "\n",
    "Judgment call: What do we do with seasonal information that's \"out of season\"? Do we assume that it was corrected months later and might be wrong now, or do we just label it with the right \"season\"?\n",
    "\n",
    "There are no other dates that have information for both season 1 and 2, but we can look at the harvest and selling dates for season 1, as well as the dates of fertilization and first rainfall for season 2."
   ]
  },
  {
   "cell_type": "code",
   "execution_count": 113,
   "metadata": {},
   "outputs": [],
   "source": [
    "hd1_df = pd.DataFrame({'date': df.harvest_date_season1, 'event': 'harvest season 1'})\n",
    "sd1_df = pd.DataFrame({'date': df.selling_date_season1, 'event': 'selling season 1'})\n",
    "rf2_df = pd.DataFrame({'date': df.first_rainfall_date_season2, 'event': 'first rainfall season 2'})\n",
    "f12_df = pd.DataFrame({'date': df.fertilizer1_date_season2, 'event': 'first fertilizer season 2'})\n",
    "f22_df = pd.DataFrame({'date': df.fertilizer2_date_season2, 'event': 'second fertilizer season 2'})\n",
    "\n",
    "date_df = pd.concat([hd1_df, sd1_df, rf2_df, f12_df, f22_df])\n",
    "\n",
    "date_df = date_df[~(date_df['date'] > pd.to_datetime('2019-01-01'))]\n",
    "date_df = date_df[~(date_df['date'] < pd.to_datetime('2015-01-01'))]\n",
    "\n",
    "num_bins = 50\n",
    "alpha_num = 0.5\n",
    "\n",
    "plotnine.options.figure_size = (10,6)\n",
    "\n",
    "p1 = ggplot() + geom_histogram(date_df[date_df.event == \"harvest season 1\"].dropna(), aes('date'), fill = 'firebrick', bins = num_bins, alpha = alpha_num) + geom_histogram(date_df[date_df.event == \"selling season 1\"].dropna(), aes('date'), bins = num_bins, fill = 'goldenrod', alpha = alpha_num) + theme_minimal() + scale_x_date(date_labels = \"%m-%Y\") + xlab(\"Date\") \n",
    "p2 = ggplot() + geom_histogram(date_df[date_df.event == \"first rainfall season 2\"].dropna(), aes('date'), bins = num_bins, fill = 'seagreen', alpha = alpha_num) + geom_histogram(date_df[date_df.event == \"first fertilizer season 2\"].dropna(), aes('date'), bins = num_bins,  fill = 'dodgerblue', alpha = alpha_num) + geom_histogram(date_df[date_df.event == \"second fertilizer season 2\"].dropna(), aes('date'), bins = num_bins, fill = 'magenta', alpha = alpha_num) + theme_minimal() + scale_x_date(date_labels = \"%m-%Y\") + xlab(\"Date\")\n",
    "\n",
    "p3 = ggplot() + geom_histogram(date_df[date_df.event == \"harvest season 1\"].dropna(), aes('date'), fill = 'firebrick', bins = num_bins, alpha = alpha_num) + geom_histogram(date_df[date_df.event == \"selling season 1\"].dropna(), aes('date'), bins = num_bins, fill = 'goldenrod', alpha = alpha_num) +geom_histogram(date_df[date_df.event == \"first rainfall season 2\"].dropna(), aes('date'), bins = num_bins, fill = 'seagreen', alpha = alpha_num) + geom_histogram(date_df[date_df.event == \"first fertilizer season 2\"].dropna(), aes('date'), bins = num_bins,  fill = 'dodgerblue', alpha = alpha_num) + geom_histogram(date_df[date_df.event == \"second fertilizer season 2\"].dropna(), aes('date'), bins = num_bins, fill = 'magenta', alpha = alpha_num) + theme_minimal() + scale_x_date(date_labels = \"%m-%Y\") + xlab(\"Date\")"
   ]
  },
  {
   "cell_type": "code",
   "execution_count": 115,
   "metadata": {
    "scrolled": false
   },
   "outputs": [
    {
     "data": {
      "image/png": "[encoded data removed]",
      "text/plain": [
       "<Figure size 1000x600 with 1 Axes>"
      ]
     },
     "metadata": {
      "needs_background": "light"
     },
     "output_type": "display_data"
    },
    {
     "name": "stdout",
     "output_type": "stream",
     "text": [
      "<ggplot: (316278601)> "
     ]
    },
    {
     "data": {
      "image/png": "[encoded data removed]",
      "text/plain": [
       "<Figure size 1000x600 with 1 Axes>"
      ]
     },
     "metadata": {
      "needs_background": "light"
     },
     "output_type": "display_data"
    },
    {
     "name": "stdout",
     "output_type": "stream",
     "text": [
      "<ggplot: (316278824)>\n"
     ]
    }
   ],
   "source": [
    "print(p1,p2)"
   ]
  },
  {
   "cell_type": "markdown",
   "metadata": {},
   "source": [
    "Looking at the events reported to happen in season 1 and 2, we see that harvest (red) occurs most between May and September of 2016, with another harvest occuring in fall/winter of 2017-2018. Selling (yellow) follows harvest.  Again, these are ALL events reported to be associated with \"season 1/last season\". For events reported to occur in \"season 2/this/coming season\", we see that first rainfall (green), first fertilizer application (blue) and second fertilizer application (purple) all occur within a few months of each other in 2016.\n",
    "\n",
    "These plots tell me that there are reasonable trends to events (harvest --> selling; rain --> fertilizing) but that it's totally unclear what season the agents and farmers are discussing."
   ]
  },
  {
   "cell_type": "markdown",
   "metadata": {},
   "source": [
    "# How to arrange the data\n",
    "\n",
    "I think one thing we can agree on is that our data ought to come with metadata similar to the way Paul arranged the CGAP data. That way, any column can be tagged with question text, answer text, units, and event type (\"pre-planting\", \"sowing\", \"management\", etc.). Then, I think it makes sense to organize the data this way:\n",
    "\n",
    "| Farmer ID | Plot ID | Collection date | Assigned season | Sowing_date | Sowing_seed_variety | ... | Fertilizer_type| ...|\n",
    "| --- | --- | --- | --- | --- | --- | --- | --- | --- |\n",
    "| 1 | 1 | 4-20-2021 | 1 | 03-02-2021 | certified | ... | NPK | ... |\n",
    "| ... | ... | ... | ... | ... | ... | ... | ... | ... |\n",
    "\n",
    "where we assign seasons to rows based on the dates associated with the row. For example, suppose we have rows that mostly have sowing in fall 2016 and harvesting in 2017 -- that's clearly a season. (I'll touch on how we might do this in a second.)\n",
    "\n",
    "I think it also makes sense to organize columns the way the CGAP data does. For example, CGAP would record a multi-category question about crop payment as three different columns \"payment_market\", \"payment_farmgate\", \"payment_merchant\". Suppose three pieces of information are collected about sowing: Date, seed variety, and seed amount. Then we would have three columns: \"sowing_date\", \"sowing_seed_variety\" and \"sowing_seed_amount\", each of which have metadata about the question, answer, units, and event (\"sowing\"). \n",
    "\n",
    "Another option would be to have an event column: \n",
    "\n",
    "| Farmer ID | Plot ID | Collection date | Assigned season | Event | Seed type | Fertilizer type |\n",
    "| --- | --- | --- | --- | --- | --- | --- |\n",
    "| 1 | 1 | 4-20-2021 | 1 | sowing | certified | NaN |\n",
    "| ... | ... | ... | ... | ... | ... | ... |\n",
    "| 1 | 1 | 4-20-2021 | 1 | fertilizing | NaN | NPK |\n",
    "\n",
    "but then I don't see how we would deal with the different columns required of different events, other than creating separate databases for events linked by farmer and season ID, and that seems overly complicated."
   ]
  },
  {
   "cell_type": "markdown",
   "metadata": {},
   "source": [
    "## Finding seasons"
   ]
  },
  {
   "cell_type": "code",
   "execution_count": 130,
   "metadata": {
    "scrolled": false
   },
   "outputs": [
    {
     "data": {
      "image/png": "[encoded data removed]",
      "text/plain": [
       "<Figure size 1000x600 with 1 Axes>"
      ]
     },
     "metadata": {
      "needs_background": "light"
     },
     "output_type": "display_data"
    },
    {
     "data": {
      "text/plain": [
       "<ggplot: (316249206)>"
      ]
     },
     "execution_count": 130,
     "metadata": {},
     "output_type": "execute_result"
    }
   ],
   "source": [
    "# Do it a complex way:\n",
    "# Rules: The earliest event and the latest event in a dataset define the range of seasons\n",
    "#        Cluster dates to define seasons\n",
    "#        Manually define event-columns\n",
    "#        Assign season using ranges of clusters\n",
    "#        Flag rows that include more than two seasons in the earliest/latest event (i.e. something may have been misrecorded)\n"
   ]
  },
  {
   "cell_type": "code",
   "execution_count": null,
   "metadata": {},
   "outputs": [],
   "source": []
  }
 ],
 "metadata": {
  "kernelspec": {
   "display_name": "Python 3",
   "language": "python",
   "name": "python3"
  },
  "language_info": {
   "codemirror_mode": {
    "name": "ipython",
    "version": 3
   },
   "file_extension": ".py",
   "mimetype": "text/x-python",
   "name": "python",
   "nbconvert_exporter": "python",
   "pygments_lexer": "ipython3",
   "version": "3.8.5"
  }
 },
 "nbformat": 4,
 "nbformat_minor": 4
}
